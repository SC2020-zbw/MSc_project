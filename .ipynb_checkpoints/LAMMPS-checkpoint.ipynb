{
 "cells": [
  {
   "cell_type": "code",
   "execution_count": null,
   "id": "aebca7a7",
   "metadata": {},
   "outputs": [],
   "source": [
    "from sge import *\n",
    "import time\n",
    "import matplotlib.pyplot as plt"
   ]
  },
  {
   "cell_type": "code",
   "execution_count": null,
   "id": "3ad84d5f",
   "metadata": {},
   "outputs": [],
   "source": [
    "script_code = job.generate_serial_job_script('example')\n",
    "script_code = script_code + '#$ -pe mpi 8\\n'\n",
    "print(script_code)"
   ]
  },
  {
   "cell_type": "code",
   "execution_count": 19,
   "id": "9f998257",
   "metadata": {},
   "outputs": [
    {
     "data": {
      "text/plain": [
       "'#!/bin/bash -l\\n#$ -l h_rt=0:10:0\\n#$ -l mem=1G\\n#$ -l tmpfs=15G\\n#$ -N example\\n#$ -cwd \\n\\n#$ -pe mpi 8\\n'"
      ]
     },
     "execution_count": 19,
     "metadata": {},
     "output_type": "execute_result"
    }
   ],
   "source": [
    "script_code"
   ]
  },
  {
   "cell_type": "code",
   "execution_count": 20,
   "id": "e9a11e3f",
   "metadata": {},
   "outputs": [
    {
     "name": "stdout",
     "output_type": "stream",
     "text": [
      "#!/bin/bash -l\n",
      "#$ -l h_rt=0:10:0\n",
      "#$ -l mem=1G\n",
      "#$ -l tmpfs=15G\n",
      "#$ -N example\n",
      "#$ -cwd \n",
      "\n",
      "#$ -pe mpi 8\n",
      "module load python3\n",
      "module load compilers/intel/2018/update mpi/intel/2018/update3/intel lammps/7Aug19/basic/intel-2018\n",
      "\n"
     ]
    }
   ],
   "source": [
    "script_code = job.load_module('python3',script_code)\n",
    "script_code = job.load_module('compilers/intel/2018/update mpi/intel/2018/update3/intel lammps/7Aug19/basic/intel-2018',script_code)\n",
    "print(script_code)"
   ]
  },
  {
   "cell_type": "code",
   "execution_count": 21,
   "id": "2fea0a69",
   "metadata": {},
   "outputs": [],
   "source": [
    "run_code = 'gerun  lmp_default -in in.rhodo.scaled -log log.lammps.'\n",
    "script_code = job.run_file(script_code,run_code)"
   ]
  },
  {
   "cell_type": "code",
   "execution_count": 22,
   "id": "fa0e913f",
   "metadata": {},
   "outputs": [],
   "source": [
    "script = job.generate_script('job-name',script_code)"
   ]
  },
  {
   "cell_type": "code",
   "execution_count": 23,
   "id": "d096debb",
   "metadata": {},
   "outputs": [],
   "source": [
    "id = job.submit_job('job-name.sh')"
   ]
  },
  {
   "cell_type": "code",
   "execution_count": null,
   "id": "fc55fa1f",
   "metadata": {},
   "outputs": [],
   "source": [
    "id"
   ]
  },
  {
   "cell_type": "code",
   "execution_count": null,
   "id": "7ddb672e",
   "metadata": {},
   "outputs": [],
   "source": [
    "job.job_status(id)"
   ]
  },
  {
   "cell_type": "code",
   "execution_count": 26,
   "id": "a89d4d2a",
   "metadata": {},
   "outputs": [
    {
     "name": "stdout",
     "output_type": "stream",
     "text": [
      "LAMMPS (7 Aug 2019)\n",
      "  using 1 OpenMP thread(s) per MPI task\n",
      "Reading data file ...\n",
      "  orthogonal box = (-27.5 -38.5 -36.3646) to (27.5 38.5 36.3615)\n",
      "  2 by 2 by 2 MPI processor grid\n",
      "  reading atoms ...\n",
      "  32000 atoms\n",
      "  reading velocities ...\n",
      "  32000 velocities\n",
      "  scanning bonds ...\n",
      "  4 = max bonds/atom\n",
      "  scanning angles ...\n",
      "  8 = max angles/atom\n",
      "  scanning dihedrals ...\n",
      "  18 = max dihedrals/atom\n",
      "  scanning impropers ...\n",
      "  2 = max impropers/atom\n",
      "  reading bonds ...\n",
      "  27723 bonds\n",
      "  reading angles ...\n",
      "  40467 angles\n",
      "  reading dihedrals ...\n",
      "  56829 dihedrals\n",
      "  reading impropers ...\n",
      "  1034 impropers\n",
      "Finding 1-2 1-3 1-4 neighbors ...\n",
      "  special bond factors lj:   0          0          0         \n",
      "  special bond factors coul: 0          0          0         \n",
      "  4 = max # of 1-2 neighbors\n",
      "  12 = max # of 1-3 neighbors\n",
      "  24 = max # of 1-4 neighbors\n",
      "  26 = max # of special neighbors\n",
      "  special bonds CPU = 0.0228009 secs\n",
      "  read_data CPU = 0.380788 secs\n",
      "Replicating atoms ...\n",
      "  orthogonal box = (-27.5 -38.5 -36.3646) to (27.5 38.5 36.3615)\n",
      "  2 by 2 by 2 MPI processor grid\n",
      "  32000 atoms\n",
      "  27723 bonds\n",
      "  40467 angles\n",
      "  56829 dihedrals\n",
      "  1034 impropers\n",
      "Finding 1-2 1-3 1-4 neighbors ...\n",
      "  special bond factors lj:   0          0          0         \n",
      "  special bond factors coul: 0          0          0         \n",
      "  4 = max # of 1-2 neighbors\n",
      "  12 = max # of 1-3 neighbors\n",
      "  24 = max # of 1-4 neighbors\n",
      "  26 = max # of special neighbors\n",
      "  special bonds CPU = 0.00522685 secs\n",
      "  replicate CPU = 0.0245731 secs\n",
      "Finding SHAKE clusters ...\n",
      "  1617 = # of size 2 clusters\n",
      "  3633 = # of size 3 clusters\n",
      "  747 = # of size 4 clusters\n",
      "  4233 = # of frozen angles\n",
      "  find clusters CPU = 0.00195312 secs\n",
      "PPPM initialization ...\n",
      "  using 12-bit tables for long-range coulomb (../kspace.cpp:323)\n",
      "  G vector (1/distance) = 0.248835\n",
      "  grid = 25 32 32\n",
      "  stencil order = 5\n",
      "  estimated absolute RMS force accuracy = 0.0355478\n",
      "  estimated relative force accuracy = 0.000107051\n",
      "  using double precision MKL FFT\n",
      "  3d grid and FFT values/proc = 7938 3328\n",
      "Neighbor list info ...\n",
      "  update every 1 steps, delay 5 steps, check yes\n",
      "  max neighbors/atom: 2000, page size: 100000\n",
      "  master list distance cutoff = 12\n",
      "  ghost atom cutoff = 12\n",
      "  binsize = 6, bins = 10 13 13\n",
      "  1 neighbor lists, perpetual/occasional/extra = 1 0 0\n",
      "  (1) pair lj/charmm/coul/long, perpetual\n",
      "      attributes: half, newton on\n",
      "      pair build: half/bin/newton\n",
      "      stencil: half/bin/3d/newton\n",
      "      bin: standard\n",
      "Setting up Verlet run ...\n",
      "  Unit style    : real\n",
      "  Current step  : 0\n",
      "  Time step     : 2\n",
      "Per MPI rank memory allocation (min/avg/max) = 42.34 | 42.63 | 42.74 Mbytes\n",
      "---------------- Step        0 ----- CPU =      0.0000 (sec) ----------------\n",
      "TotEng   =    -25356.2064 KinEng   =     21444.8313 Temp     =       299.0397 \n",
      "PotEng   =    -46801.0377 E_bond   =      2537.9940 E_angle  =     10921.3742 \n",
      "E_dihed  =      5211.7865 E_impro  =       213.5116 E_vdwl   =     -2307.8634 \n",
      "E_coul   =    207025.8927 E_long   =   -270403.7333 Press    =      -149.3301 \n",
      "Volume   =    307995.0335 \n",
      "---------------- Step       50 ----- CPU =      1.8034 (sec) ----------------\n",
      "TotEng   =    -25330.0317 KinEng   =     21501.0005 Temp     =       299.8229 \n",
      "PotEng   =    -46831.0322 E_bond   =      2471.7035 E_angle  =     10836.5102 \n",
      "E_dihed  =      5239.6319 E_impro  =       227.1218 E_vdwl   =     -1993.2873 \n",
      "E_coul   =    206797.6801 E_long   =   -270410.3926 Press    =       237.6571 \n",
      "Volume   =    308031.6762 \n",
      "---------------- Step      100 ----- CPU =      3.6797 (sec) ----------------\n",
      "TotEng   =    -25290.7306 KinEng   =     21591.9084 Temp     =       301.0906 \n",
      "PotEng   =    -46882.6390 E_bond   =      2567.9807 E_angle  =     10781.9571 \n",
      "E_dihed  =      5198.7492 E_impro  =       216.7864 E_vdwl   =     -1902.6618 \n",
      "E_coul   =    206659.5224 E_long   =   -270404.9730 Press    =         6.7406 \n",
      "Volume   =    308134.2285 \n",
      "---------------- Step      150 ----- CPU =      5.5583 (sec) ----------------\n",
      "TotEng   =    -25258.0784 KinEng   =     21529.6639 Temp     =       300.2226 \n",
      "PotEng   =    -46787.7423 E_bond   =      2556.3466 E_angle  =     10852.7806 \n",
      "E_dihed  =      5265.2304 E_impro  =       203.0691 E_vdwl   =     -2066.1357 \n",
      "E_coul   =    206797.4427 E_long   =   -270396.4760 Press    =       251.4737 \n",
      "Volume   =    308515.2403 \n",
      "---------------- Step      200 ----- CPU =      7.4706 (sec) ----------------\n",
      "TotEng   =    -25078.8504 KinEng   =     21571.3556 Temp     =       300.8040 \n",
      "PotEng   =    -46650.2059 E_bond   =      2488.6957 E_angle  =     11073.4386 \n",
      "E_dihed  =      5221.7531 E_impro  =       232.8553 E_vdwl   =     -2167.7436 \n",
      "E_coul   =    206902.9192 E_long   =   -270402.1242 Press    =        20.6669 \n",
      "Volume   =    308997.5601 \n",
      "---------------- Step      250 ----- CPU =      9.3204 (sec) ----------------\n",
      "TotEng   =    -24944.3492 KinEng   =     21546.5620 Temp     =       300.4583 \n",
      "PotEng   =    -46490.9112 E_bond   =      2542.5411 E_angle  =     11105.5044 \n",
      "E_dihed  =      5239.6608 E_impro  =       212.3531 E_vdwl   =     -2169.0700 \n",
      "E_coul   =    206990.2687 E_long   =   -270412.1692 Press    =      -169.9532 \n",
      "Volume   =    309388.1021 \n",
      "---------------- Step      300 ----- CPU =     11.1367 (sec) ----------------\n",
      "TotEng   =    -24999.4093 KinEng   =     21499.4287 Temp     =       299.8010 \n",
      "PotEng   =    -46498.8380 E_bond   =      2557.8757 E_angle  =     10921.7925 \n",
      "E_dihed  =      5211.0905 E_impro  =       222.1833 E_vdwl   =     -2220.7361 \n",
      "E_coul   =    207195.7693 E_long   =   -270386.8132 Press    =      -370.8169 \n",
      "Volume   =    309663.8048 \n",
      "---------------- Step      350 ----- CPU =     12.9688 (sec) ----------------\n",
      "TotEng   =    -25127.9407 KinEng   =     21464.8658 Temp     =       299.3190 \n",
      "PotEng   =    -46592.8065 E_bond   =      2580.3609 E_angle  =     10952.3446 \n",
      "E_dihed  =      5250.5199 E_impro  =       212.6558 E_vdwl   =     -2165.0767 \n",
      "E_coul   =    206978.3257 E_long   =   -270401.9367 Press    =      -337.2452 \n",
      "Volume   =    309801.8049 \n",
      "---------------- Step      400 ----- CPU =     14.8391 (sec) ----------------\n",
      "TotEng   =    -25200.9744 KinEng   =     21423.7669 Temp     =       298.7459 \n",
      "PotEng   =    -46624.7413 E_bond   =      2525.9282 E_angle  =     10967.0089 \n",
      "E_dihed  =      5205.9912 E_impro  =       212.5895 E_vdwl   =     -2115.8928 \n",
      "E_coul   =    206991.8487 E_long   =   -270412.2150 Press    =       249.6588 \n",
      "Volume   =    309816.5844 \n",
      "---------------- Step      450 ----- CPU =     16.7148 (sec) ----------------\n",
      "TotEng   =    -25148.3024 KinEng   =     21455.7746 Temp     =       299.1923 \n",
      "PotEng   =    -46604.0770 E_bond   =      2501.0152 E_angle  =     10965.3345 \n",
      "E_dihed  =      5240.8608 E_impro  =       226.1420 E_vdwl   =     -2232.5576 \n",
      "E_coul   =    207091.4721 E_long   =   -270396.3439 Press    =       181.9748 \n",
      "Volume   =    309792.0452 \n",
      "---------------- Step      500 ----- CPU =     18.5473 (sec) ----------------\n",
      "TotEng   =    -24960.6787 KinEng   =     21625.5122 Temp     =       301.5592 \n",
      "PotEng   =    -46586.1909 E_bond   =      2566.9804 E_angle  =     10945.4483 \n",
      "E_dihed  =      5268.2008 E_impro  =       217.7720 E_vdwl   =     -2219.3004 \n",
      "E_coul   =    207027.0059 E_long   =   -270392.2980 Press    =      -313.8778 \n",
      "Volume   =    309754.1277 \n",
      "---------------- Step      550 ----- CPU =     20.4251 (sec) ----------------\n",
      "TotEng   =    -24894.7604 KinEng   =     21639.4025 Temp     =       301.7529 \n",
      "PotEng   =    -46534.1629 E_bond   =      2512.6417 E_angle  =     10924.4185 \n",
      "E_dihed  =      5203.6135 E_impro  =       222.9803 E_vdwl   =     -1959.2893 \n",
      "E_coul   =    206961.5653 E_long   =   -270400.0930 Press    =       433.1388 \n",
      "Volume   =    309669.3031 \n",
      "---------------- Step      600 ----- CPU =     22.2668 (sec) ----------------\n",
      "TotEng   =    -24983.0546 KinEng   =     21610.9929 Temp     =       301.3567 \n",
      "PotEng   =    -46594.0476 E_bond   =      2588.0975 E_angle  =     10902.8411 \n",
      "E_dihed  =      5236.3695 E_impro  =       223.4225 E_vdwl   =     -2184.9756 \n",
      "E_coul   =    207042.0037 E_long   =   -270401.8064 Press    =        61.2829 \n",
      "Volume   =    309823.7888 \n",
      "---------------- Step      650 ----- CPU =     24.1686 (sec) ----------------\n",
      "TotEng   =    -25228.5681 KinEng   =     21485.3442 Temp     =       299.6046 \n",
      "PotEng   =    -46713.9124 E_bond   =      2530.4880 E_angle  =     10811.7961 \n",
      "E_dihed  =      5220.9505 E_impro  =       198.2060 E_vdwl   =     -2123.8842 \n",
      "E_coul   =    207042.5334 E_long   =   -270394.0021 Press    =      -219.8732 \n",
      "Volume   =    310020.3413 \n",
      "---------------- Step      700 ----- CPU =     26.0046 (sec) ----------------\n",
      "TotEng   =    -25315.0796 KinEng   =     21459.5824 Temp     =       299.2454 \n",
      "PotEng   =    -46774.6620 E_bond   =      2468.9574 E_angle  =     10947.7573 \n",
      "E_dihed  =      5205.2560 E_impro  =       205.8608 E_vdwl   =     -2130.5899 \n",
      "E_coul   =    206928.9369 E_long   =   -270400.8405 Press    =       247.5792 \n",
      "Volume   =    310166.8959 \n",
      "---------------- Step      750 ----- CPU =     27.8874 (sec) ----------------\n",
      "TotEng   =    -25199.2780 KinEng   =     21409.8870 Temp     =       298.5524 \n",
      "PotEng   =    -46609.1650 E_bond   =      2529.9473 E_angle  =     11012.5038 \n",
      "E_dihed  =      5257.4582 E_impro  =       213.7427 E_vdwl   =     -2046.4300 \n",
      "E_coul   =    206832.4956 E_long   =   -270408.8827 Press    =       433.2504 \n",
      "Volume   =    310144.5572 \n",
      "---------------- Step      800 ----- CPU =     29.7374 (sec) ----------------\n",
      "TotEng   =    -25038.1361 KinEng   =     21508.9157 Temp     =       299.9333 \n",
      "PotEng   =    -46547.0518 E_bond   =      2551.6638 E_angle  =     11072.5643 \n",
      "E_dihed  =      5244.6494 E_impro  =       218.3794 E_vdwl   =     -2020.7518 \n",
      "E_coul   =    206776.0775 E_long   =   -270389.6345 Press    =      -137.4887 \n",
      "Volume   =    310120.8337 \n",
      "---------------- Step      850 ----- CPU =     31.6357 (sec) ----------------\n",
      "TotEng   =    -24952.2889 KinEng   =     21686.5329 Temp     =       302.4101 \n",
      "PotEng   =    -46638.8217 E_bond   =      2554.6737 E_angle  =     11018.4742 \n",
      "E_dihed  =      5293.9938 E_impro  =       225.5405 E_vdwl   =     -1986.1654 \n",
      "E_coul   =    206652.4499 E_long   =   -270397.7884 Press    =       111.7410 \n",
      "Volume   =    310017.3985 \n",
      "---------------- Step      900 ----- CPU =     33.5010 (sec) ----------------\n",
      "TotEng   =    -24986.5826 KinEng   =     21474.7147 Temp     =       299.4564 \n",
      "PotEng   =    -46461.2973 E_bond   =      2556.1680 E_angle  =     11002.8762 \n",
      "E_dihed  =      5263.7797 E_impro  =       224.0925 E_vdwl   =     -2060.9366 \n",
      "E_coul   =    206956.1625 E_long   =   -270403.4395 Press    =        86.5086 \n",
      "Volume   =    309909.9171 \n",
      "---------------- Step      950 ----- CPU =     35.3749 (sec) ----------------\n",
      "TotEng   =    -25012.3253 KinEng   =     21502.9797 Temp     =       299.8505 \n",
      "PotEng   =    -46515.3050 E_bond   =      2541.5803 E_angle  =     11005.2033 \n",
      "E_dihed  =      5261.2709 E_impro  =       239.8585 E_vdwl   =     -2038.5825 \n",
      "E_coul   =    206870.0180 E_long   =   -270394.6535 Press    =        86.0034 \n",
      "Volume   =    309859.7663 \n",
      "---------------- Step     1000 ----- CPU =     37.2822 (sec) ----------------\n",
      "TotEng   =    -25076.3867 KinEng   =     21465.5220 Temp     =       299.3282 \n",
      "PotEng   =    -46541.9087 E_bond   =      2590.8509 E_angle  =     11050.3347 \n",
      "E_dihed  =      5253.6619 E_impro  =       244.2612 E_vdwl   =     -2311.3313 \n",
      "E_coul   =    207033.7062 E_long   =   -270403.3924 Press    =      -386.1100 \n",
      "Volume   =    309842.6752 \n",
      "Loop time of 37.2822 on 8 procs for 1000 steps with 32000 atoms\n",
      "\n",
      "Performance: 4.635 ns/day, 5.178 hours/ns, 26.822 timesteps/s\n",
      "99.0% CPU use with 8 MPI tasks x 1 OpenMP threads\n",
      "\n",
      "MPI task timing breakdown:\n",
      "Section |  min time  |  avg time  |  max time  |%varavg| %total\n",
      "---------------------------------------------------------------\n",
      "Pair    | 25.901     | 26.456     | 26.981     |   6.3 | 70.96\n",
      "Bond    | 0.97081    | 1.0293     | 1.1018     |   4.3 |  2.76\n",
      "Kspace  | 2.8475     | 3.3591     | 3.8477     |  17.4 |  9.01\n",
      "Neigh   | 4.6889     | 4.6913     | 4.6923     |   0.1 | 12.58\n",
      "Comm    | 0.41923    | 0.42538    | 0.43041    |   0.5 |  1.14\n",
      "Output  | 0.00089407 | 0.00097969 | 0.001477   |   0.0 |  0.00\n",
      "Modify  | 1.2539     | 1.2676     | 1.2734     |   0.5 |  3.40\n",
      "Other   |            | 0.05214    |            |       |  0.14\n",
      "\n",
      "Nlocal:    4000 ave 4061 max 3928 min\n",
      "Histogram: 1 0 0 3 0 1 0 1 0 2\n",
      "Nghost:    16000.9 ave 16047 max 15958 min\n",
      "Histogram: 2 0 1 0 1 1 0 1 1 1\n",
      "Neighs:    1.49528e+06 ave 1.53276e+06 max 1.45125e+06 min\n",
      "Histogram: 1 0 0 2 0 2 1 0 0 2\n",
      "\n",
      "Total # of neighbors = 11962234\n",
      "Ave neighs/atom = 373.82\n",
      "Ave special neighs/atom = 7.43187\n",
      "Neighbor list builds = 110\n",
      "Dangerous builds = 0\n",
      "Total wall time: 0:00:39\n",
      "\n"
     ]
    }
   ],
   "source": [
    "while(job.job_status(id)!='This job ' + id + ' does not exist.'):\n",
    "    time.sleep(60) #wait 60 seconds\n",
    "print(job.return_output('example',id))"
   ]
  },
  {
   "cell_type": "code",
   "execution_count": 14,
   "id": "5922090e",
   "metadata": {},
   "outputs": [
    {
     "data": {
      "text/plain": [
       "str"
      ]
     },
     "execution_count": 14,
     "metadata": {},
     "output_type": "execute_result"
    }
   ],
   "source": [
    "type(job.return_output('example',id))"
   ]
  },
  {
   "cell_type": "code",
   "execution_count": 2,
   "id": "84a931ef",
   "metadata": {},
   "outputs": [
    {
     "name": "stdout",
     "output_type": "stream",
     "text": [
      "None\n"
     ]
    }
   ],
   "source": [
    "import lammps_logfile\n",
    "\n",
    "log = lammps_logfile.File(\"log.lammps.\")\n",
    "\n",
    "x = log.get(\"Time\")\n",
    "y = log.get(\"Temp\")\n",
    "print(y)\n",
    "\n",
    "#import matplotlib.pyplot as plt\n",
    "#plt.plot(x, y)\n",
    "#plt.show()\n"
   ]
  },
  {
   "cell_type": "code",
   "execution_count": null,
   "id": "f5e90150",
   "metadata": {},
   "outputs": [],
   "source": []
  },
  {
   "cell_type": "code",
   "execution_count": null,
   "id": "eafc8a0e",
   "metadata": {},
   "outputs": [],
   "source": []
  },
  {
   "cell_type": "code",
   "execution_count": null,
   "id": "07614f35",
   "metadata": {},
   "outputs": [],
   "source": []
  }
 ],
 "metadata": {
  "kernelspec": {
   "display_name": "Python 3 (ipykernel)",
   "language": "python",
   "name": "python3"
  },
  "language_info": {
   "codemirror_mode": {
    "name": "ipython",
    "version": 3
   },
   "file_extension": ".py",
   "mimetype": "text/x-python",
   "name": "python",
   "nbconvert_exporter": "python",
   "pygments_lexer": "ipython3",
   "version": "3.8.6"
  }
 },
 "nbformat": 4,
 "nbformat_minor": 5
}
