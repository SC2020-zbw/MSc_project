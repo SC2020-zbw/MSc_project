{
 "cells": [
  {
   "cell_type": "code",
   "execution_count": 1,
   "id": "aebca7a7",
   "metadata": {},
   "outputs": [],
   "source": [
    "import sys \n",
    "sys.path.append(\"../..\") # The position of sge library\n",
    "from sge import *\n",
    "import time\n",
    "import matplotlib.pyplot as plt"
   ]
  },
  {
   "cell_type": "code",
   "execution_count": 2,
   "id": "3ad84d5f",
   "metadata": {},
   "outputs": [
    {
     "name": "stdout",
     "output_type": "stream",
     "text": [
      "#!/bin/bash -l\n",
      "#$ -l h_rt=0:10:0\n",
      "#$ -l mem=1G\n",
      "#$ -l tmpfs=15G\n",
      "#$ -N LAMMPS\n",
      "#$ -cwd \n",
      "\n",
      "#$ -pe mpi 8\n",
      "module load compilers/intel/2018/update3\n",
      "module load mpi/intel/2018/update3/intel\n",
      "module load lammps/7Aug19/basic/intel-2018\n",
      "gerun  lmp_default -in in.rhodo.scaled -log log.lammps.\n",
      "\n"
     ]
    }
   ],
   "source": [
    "# Set the name of job and number of processes\n",
    "script_code = job.mpi_job_script_code('LAMMPS','8') \n",
    "# Set the necessary modules for the LAMMPS example\n",
    "script_code = job.load_module('compilers/intel/2018/update3',script_code)\n",
    "script_code = job.load_module('mpi/intel/2018/update3/intel',script_code)\n",
    "script_code = job.load_module('lammps/7Aug19/basic/intel-2018',script_code)\n",
    "# Create code to run the simulation\n",
    "run_code = 'gerun  lmp_default -in in.rhodo.scaled -log log.lammps.'\n",
    "script_code = job.add_working_code(script_code,run_code)\n",
    "print(script_code)"
   ]
  },
  {
   "cell_type": "code",
   "execution_count": 3,
   "id": "fa0e913f",
   "metadata": {},
   "outputs": [],
   "source": [
    "script = job.generate_script('LAMMPS',script_code) # Generate the script file named 'LAMMPS.sh' and put the script code in it"
   ]
  },
  {
   "cell_type": "code",
   "execution_count": 4,
   "id": "d096debb",
   "metadata": {},
   "outputs": [],
   "source": [
    "id = job.submit_job('LAMMPS.sh') # Remember the job id"
   ]
  },
  {
   "cell_type": "code",
   "execution_count": 5,
   "id": "7ddb672e",
   "metadata": {},
   "outputs": [
    {
     "data": {
      "text/plain": [
       "'The job 9242776 is queuing and waiting.'"
      ]
     },
     "execution_count": 5,
     "metadata": {},
     "output_type": "execute_result"
    }
   ],
   "source": [
    "job.job_status(id)"
   ]
  },
  {
   "cell_type": "code",
   "execution_count": 6,
   "id": "a89d4d2a",
   "metadata": {},
   "outputs": [
    {
     "name": "stdout",
     "output_type": "stream",
     "text": [
      "The job 9242776 has finished.\n"
     ]
    }
   ],
   "source": [
    "while(job.job_status(id)!='The job ' + id + ' does not exist.'):\n",
    "    time.sleep(30) # Wait 30 seconds\n",
    "print('The job ' + id + ' has finished.')"
   ]
  },
  {
   "cell_type": "code",
   "execution_count": 7,
   "id": "a23f33df",
   "metadata": {
    "scrolled": true
   },
   "outputs": [
    {
     "name": "stdout",
     "output_type": "stream",
     "text": [
      "/var/opt/sge/node-j00a-001/active_jobs/9242776.1/pe_hostfile\n",
      "node-j00a-001\n",
      "node-j00a-001\n",
      "node-j00a-001\n",
      "node-j00a-001\n",
      "node-j00a-001\n",
      "node-j00a-001\n",
      "node-j00a-001\n",
      "node-j00a-001\n",
      "\n"
     ]
    }
   ],
   "source": [
    "print(job.setup_output('LAMMPS',id)) # Setup script output"
   ]
  },
  {
   "cell_type": "code",
   "execution_count": 8,
   "id": "3642743b",
   "metadata": {},
   "outputs": [
    {
     "name": "stdout",
     "output_type": "stream",
     "text": [
      "\n"
     ]
    }
   ],
   "source": [
    "print(job.setup_error('LAMMPS',id)) # Setup script error"
   ]
  },
  {
   "cell_type": "code",
   "execution_count": 9,
   "id": "da497a5b",
   "metadata": {
    "scrolled": true
   },
   "outputs": [
    {
     "name": "stdout",
     "output_type": "stream",
     "text": [
      "LAMMPS (7 Aug 2019)\n",
      "  using 1 OpenMP thread(s) per MPI task\n",
      "Reading data file ...\n",
      "  orthogonal box = (-27.5 -38.5 -36.3646) to (27.5 38.5 36.3615)\n",
      "  2 by 2 by 2 MPI processor grid\n",
      "  reading atoms ...\n",
      "  32000 atoms\n",
      "  reading velocities ...\n",
      "  32000 velocities\n",
      "  scanning bonds ...\n",
      "  4 = max bonds/atom\n",
      "  scanning angles ...\n",
      "  8 = max angles/atom\n",
      "  scanning dihedrals ...\n",
      "  18 = max dihedrals/atom\n",
      "  scanning impropers ...\n",
      "  2 = max impropers/atom\n",
      "  reading bonds ...\n",
      "  27723 bonds\n",
      "  reading angles ...\n",
      "  40467 angles\n",
      "  reading dihedrals ...\n",
      "  56829 dihedrals\n",
      "  reading impropers ...\n",
      "  1034 impropers\n",
      "Finding 1-2 1-3 1-4 neighbors ...\n",
      "  special bond factors lj:   0          0          0         \n",
      "  special bond factors coul: 0          0          0         \n",
      "  4 = max # of 1-2 neighbors\n",
      "  12 = max # of 1-3 neighbors\n",
      "  24 = max # of 1-4 neighbors\n",
      "  26 = max # of special neighbors\n",
      "  special bonds CPU = 0.138807 secs\n",
      "  read_data CPU = 1.26628 secs\n",
      "Replicating atoms ...\n",
      "  orthogonal box = (-27.5 -38.5 -36.3646) to (27.5 38.5 36.3615)\n",
      "  2 by 2 by 2 MPI processor grid\n",
      "  32000 atoms\n",
      "  27723 bonds\n",
      "  40467 angles\n",
      "  56829 dihedrals\n",
      "  1034 impropers\n",
      "Finding 1-2 1-3 1-4 neighbors ...\n",
      "  special bond factors lj:   0          0          0         \n",
      "  special bond factors coul: 0          0          0         \n",
      "  4 = max # of 1-2 neighbors\n",
      "  12 = max # of 1-3 neighbors\n",
      "  24 = max # of 1-4 neighbors\n",
      "  26 = max # of special neighbors\n",
      "  special bonds CPU = 0.00457978 secs\n",
      "  replicate CPU = 0.0213308 secs\n",
      "Finding SHAKE clusters ...\n",
      "  1617 = # of size 2 clusters\n",
      "  3633 = # of size 3 clusters\n",
      "  747 = # of size 4 clusters\n",
      "  4233 = # of frozen angles\n",
      "  find clusters CPU = 0.00194407 secs\n",
      "PPPM initialization ...\n",
      "  using 12-bit tables for long-range coulomb (../kspace.cpp:323)\n",
      "  G vector (1/distance) = 0.248835\n",
      "  grid = 25 32 32\n",
      "  stencil order = 5\n",
      "  estimated absolute RMS force accuracy = 0.0355478\n",
      "  estimated relative force accuracy = 0.000107051\n",
      "  using double precision MKL FFT\n",
      "  3d grid and FFT values/proc = 7938 3328\n",
      "Neighbor list info ...\n",
      "  update every 1 steps, delay 5 steps, check yes\n",
      "  max neighbors/atom: 2000, page size: 100000\n",
      "  master list distance cutoff = 12\n",
      "  ghost atom cutoff = 12\n",
      "  binsize = 6, bins = 10 13 13\n",
      "  1 neighbor lists, perpetual/occasional/extra = 1 0 0\n",
      "  (1) pair lj/charmm/coul/long, perpetual\n",
      "      attributes: half, newton on\n",
      "      pair build: half/bin/newton\n",
      "      stencil: half/bin/3d/newton\n",
      "      bin: standard\n",
      "Setting up Verlet run ...\n",
      "  Unit style    : real\n",
      "  Current step  : 0\n",
      "  Time step     : 2\n",
      "Per MPI rank memory allocation (min/avg/max) = 42.34 | 42.63 | 42.74 Mbytes\n",
      "Step Temp E_pair E_mol TotEng Press Volume \n",
      "       0    299.03967   -65685.704    18884.666   -25356.206   -149.33011    307995.03 \n",
      "      50    299.82293       -65606    18774.968   -25330.032    237.65707    308031.68 \n",
      "     100    301.09061   -65648.112    18765.473   -25290.731     6.740596    308134.23 \n",
      "     150    300.22263   -65665.169    18877.427   -25258.078    251.47374    308515.24 \n",
      "     200    300.80401   -65666.949    19016.743    -25078.85    20.666919    308997.56 \n",
      "     250    300.45827   -65590.971    19100.059   -24944.349   -169.95315     309388.1 \n",
      "     300    299.80101    -65411.78    18912.942   -24999.409   -370.81687     309663.8 \n",
      "     350    299.31905   -65588.688    18995.881   -25127.941   -337.24516     309801.8 \n",
      "     400    298.74594   -65536.259    18911.518   -25200.974    249.65879    309816.58 \n",
      "     450    299.19227    -65537.43    18933.353   -25148.302    181.97476    309792.05 \n",
      "     500     301.5592   -65584.592    18998.402   -24960.679   -313.87783    309754.13 \n",
      "     550    301.75289   -65397.817    18863.654    -24894.76    433.13882     309669.3 \n",
      "     600    301.35673   -65544.778    18950.731   -24983.055    61.282907    309823.79 \n",
      "     650    299.60461   -65475.353    18761.441   -25228.568   -219.87315    310020.34 \n",
      "     700    299.24537   -65602.493    18827.832    -25315.08    247.57917     310166.9 \n",
      "     750    298.55239   -65622.817    19013.652   -25199.278    433.25036    310144.56 \n",
      "     800    299.93331   -65634.309    19087.257   -25038.136   -137.48869    310120.83 \n",
      "     850    302.41011   -65731.504    19092.682   -24952.289    111.74099     310017.4 \n",
      "     900    299.45639   -65508.214    19046.916   -24986.583    86.508593    309909.92 \n",
      "     950    299.85053   -65563.218    19047.913   -25012.325    86.003438    309859.77 \n",
      "    1000     299.3282   -65681.017    19139.109   -25076.387      -386.11    309842.68 \n",
      "Loop time of 115.15 on 8 procs for 1000 steps with 32000 atoms\n",
      "\n",
      "Performance: 1.501 ns/day, 15.993 hours/ns, 8.684 timesteps/s\n",
      "32.7% CPU use with 8 MPI tasks x 1 OpenMP threads\n",
      "\n",
      "MPI task timing breakdown:\n",
      "Section |  min time  |  avg time  |  max time  |%varavg| %total\n",
      "---------------------------------------------------------------\n",
      "Pair    | 28.861     | 29.749     | 30.608     |   9.9 | 25.83\n",
      "Bond    | 11.822     | 11.879     | 11.947     |   1.2 | 10.32\n",
      "Kspace  | 11.04      | 11.881     | 12.827     |  15.6 | 10.32\n",
      "Neigh   | 12.719     | 13.317     | 13.451     |   6.8 | 11.57\n",
      "Comm    | 5.3742     | 5.3837     | 5.388      |   0.2 |  4.68\n",
      "Output  | 7.0596     | 7.2731     | 8.7551     |  20.8 |  6.32\n",
      "Modify  | 21.659     | 23.417     | 24.249     |  14.6 | 20.34\n",
      "Other   |            | 12.25      |            |       | 10.64\n",
      "\n",
      "Nlocal:    4000 ave 4061 max 3928 min\n",
      "Histogram: 1 0 0 3 0 1 0 1 0 2\n",
      "Nghost:    16000.9 ave 16047 max 15958 min\n",
      "Histogram: 2 0 1 0 1 1 0 1 1 1\n",
      "Neighs:    1.49528e+06 ave 1.53276e+06 max 1.45125e+06 min\n",
      "Histogram: 1 0 0 2 0 2 1 0 0 2\n",
      "\n",
      "Total # of neighbors = 11962234\n",
      "Ave neighs/atom = 373.82\n",
      "Ave special neighs/atom = 7.43187\n",
      "Neighbor list builds = 110\n",
      "Dangerous builds = 0\n",
      "Total wall time: 0:03:14\n",
      "\n"
     ]
    }
   ],
   "source": [
    "print(job.return_output('LAMMPS',id)) # Job output"
   ]
  },
  {
   "cell_type": "code",
   "execution_count": 10,
   "id": "1167a0c4",
   "metadata": {},
   "outputs": [
    {
     "name": "stdout",
     "output_type": "stream",
     "text": [
      "GERun: \n",
      "GERun: Note: Lines like this one prefixed with \"GERun:\" are for debugging\n",
      "GERun:       purposes only and you do not need to report them to rc-support\n",
      "GERun:       unless your job fails for other reasons.\n",
      "GERun: \n",
      "GERun: \n",
      "GERun: Grid Engine parallel launcher abstraction layer version iv (public)\n",
      "GERun: Dr Owain Kenway, RCAS, RITS, ISD, UCL, 7th of February, 2018\n",
      "GERun: \n",
      "GERun: For licensing terms, see LICENSE.txt\n",
      "GERun: \n",
      "GERun: Using environment: intel\n",
      "GERun: Running on 8 slots:\n",
      "GERun:     8 MPI tasks\n",
      "GERun:     1 threads per task\n",
      "GERun: TMPDIR=/tmpdir/job/9242776.undefined\n",
      "GERun: \n",
      "GERun: Contents of machinefile:\n",
      "GERun: node-j00a-001\n",
      "GERun: node-j00a-001\n",
      "GERun: node-j00a-001\n",
      "GERun: node-j00a-001\n",
      "GERun: node-j00a-001\n",
      "GERun: node-j00a-001\n",
      "GERun: node-j00a-001\n",
      "GERun: node-j00a-001\n",
      "GERun: \n",
      "GERun: GErun command being run:\n",
      "GERun:  mpirun --rsh=ssh -machinefile /tmpdir/job/9242776.undefined/machines.unique -np 8 -rr lmp_default -in in.rhodo.scaled -log log.lammps.\n",
      "\n"
     ]
    }
   ],
   "source": [
    "print(job.return_error('LAMMPS',id)) # Job error. Below is the default return error message which doesn't mean there exists error."
   ]
  },
  {
   "cell_type": "code",
   "execution_count": 11,
   "id": "056cc77d",
   "metadata": {},
   "outputs": [
    {
     "data": {
      "image/png": "[encoded data removed]",
      "text/plain": [
       "<Figure size 432x288 with 1 Axes>"
      ]
     },
     "metadata": {
      "needs_background": "light"
     },
     "output_type": "display_data"
    }
   ],
   "source": [
    "import lammps_logfile\n",
    "\n",
    "log = lammps_logfile.File(\"log.lammps.\")\n",
    "\n",
    "x = log.get(\"Step\")\n",
    "y = log.get(\"Temp\")\n",
    "\n",
    "import matplotlib.pyplot as plt\n",
    "plt.plot(x, y)\n",
    "plt.show()\n"
   ]
  }
 ],
 "metadata": {
  "kernelspec": {
   "display_name": "Python 3 (ipykernel)",
   "language": "python",
   "name": "python3"
  },
  "language_info": {
   "codemirror_mode": {
    "name": "ipython",
    "version": 3
   },
   "file_extension": ".py",
   "mimetype": "text/x-python",
   "name": "python",
   "nbconvert_exporter": "python",
   "pygments_lexer": "ipython3",
   "version": "3.8.6"
  }
 },
 "nbformat": 4,
 "nbformat_minor": 5
}
